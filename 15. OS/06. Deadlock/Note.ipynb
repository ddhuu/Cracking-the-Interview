{
 "cells": [
  {
   "cell_type": "markdown",
   "metadata": {},
   "source": [
    "# Quiz 1"
   ]
  },
  {
   "cell_type": "markdown",
   "metadata": {},
   "source": [
    "|    | Allocation | Need | Available |\n",
    "|----|------------|------|-----------|\n",
    "| T0 | 0 1 0      | 7 4 3| 2 3 0     |\n",
    "| T1 | 3 0 2      | 0 2 0|           |\n",
    "| T2 | 3 0 2      | 6 0 0|           |\n",
    "| T3 | 2 1 1      | 0 1 1|           |\n",
    "| T4 | 0 0 2      | 4 3 1|           |\n",
    "\n",
    "\n",
    "- Executing safety algorithm shows that sequence < T1, T3, T4, T0, T2> satisfies safety requirement\n",
    "\n",
    "- Can request for (3,3,0) by T4 be granted?\n",
    "\n",
    "- Can request for (0,2,0) by T0 be granted?\n",
    "\n"
   ]
  },
  {
   "cell_type": "code",
   "execution_count": 5,
   "metadata": {},
   "outputs": [
    {
     "name": "stdout",
     "output_type": "stream",
     "text": [
      "Execution sequence: ['P1', 'P3', 'P4', 'P0', 'P2']\n",
      "Final available resources: [10, 5, 7]\n",
      "Can request for (3,3,0) by P4 be granted? True\n",
      "Can request for (0,2,0) by P0 be granted? True\n"
     ]
    }
   ],
   "source": [
    "def check_request(need, available):\n",
    "    for i in range(len(need)):\n",
    "        if need[i] > available[i]:\n",
    "            return False, available\n",
    "    new_available = [available[i] + need[i] for i in range(len(need))]\n",
    "    return True, new_available\n",
    "\n",
    "processes = {\n",
    "    'P0': {'need': [7,4,3], 'allocation': [0,1,0]},\n",
    "    'P1': {'need': [0,2,0], 'allocation': [3,0,2]},\n",
    "    'P2': {'need': [6,0,0], 'allocation': [3,0,2]},\n",
    "    'P3': {'need': [0,1,1], 'allocation': [2,1,1]},\n",
    "    'P4': {'need': [4,3,1], 'allocation': [0,0,2]},\n",
    "}\n",
    "\n",
    "available = [2,3,0]\n",
    "execution_sequence = []\n",
    "\n",
    "# Specify the order of process requests\n",
    "order_of_requests = ['P1', 'P3', 'P4', 'P0', 'P2']\n",
    "\n",
    "for process in order_of_requests:\n",
    "    values = processes[process]\n",
    "    granted, new_available = check_request(values['need'], available)\n",
    "    if granted:\n",
    "        execution_sequence.append(process)\n",
    "        available = [available[i] + values['allocation'][i] for i in range(len(available))]\n",
    "\n",
    "print(f\"Execution sequence: {execution_sequence}\")\n",
    "print(f\"Final available resources: {available}\")\n",
    "\n",
    "# Check specific requests\n",
    "P4_request = check_request([3,3,0], available)\n",
    "print(f\"Can request for (3,3,0) by P4 be granted? {P4_request[0]}\")\n",
    "\n",
    "P0_request = check_request([0,2,0], available)\n",
    "print(f\"Can request for (0,2,0) by P0 be granted? {P0_request[0]}\")"
   ]
  }
 ],
 "metadata": {
  "kernelspec": {
   "display_name": "Python 3",
   "language": "python",
   "name": "python3"
  },
  "language_info": {
   "codemirror_mode": {
    "name": "ipython",
    "version": 3
   },
   "file_extension": ".py",
   "mimetype": "text/x-python",
   "name": "python",
   "nbconvert_exporter": "python",
   "pygments_lexer": "ipython3",
   "version": "3.11.5"
  }
 },
 "nbformat": 4,
 "nbformat_minor": 2
}
