{
 "cells": [
  {
   "cell_type": "markdown",
   "metadata": {},
   "source": [
    "# Qiz 01\n",
    "![Diagram](./Images/Q1.png)"
   ]
  },
  {
   "cell_type": "markdown",
   "metadata": {},
   "source": [
    "``` cpp\n",
    "semaphore tunnel = 3; // Maximum 3 vehicles in the tunnel at any time\n",
    "semaphore direction[2] = {3, 3}; // Maximum 3 vehicles in each direction at any time\n",
    "\n",
    "void EnterTunnel(int direction) {\n",
    "    down(tunnel); // Check if the tunnel is not full\n",
    "    down(direction[direction]); // Check if the direction is not full\n",
    "}\n",
    "\n",
    "void ExitTunnel(int direction) {\n",
    "    up(direction[direction]); // Signal that a vehicle has left the direction\n",
    "    up(tunnel); // Signal that a vehicle has left the tunnel\n",
    "} \n"
   ]
  },
  {
   "cell_type": "markdown",
   "metadata": {},
   "source": [
    "# Quiz 02\n",
    "![Diagram](./images/Q2.png)\n"
   ]
  },
  {
   "cell_type": "markdown",
   "metadata": {},
   "source": [
    "```cpp"
   ]
  },
  {
   "cell_type": "markdown",
   "metadata": {},
   "source": [
    "``` cpp\n",
    "semaphore chassis = 1; // Only one chassis can be produced at a time\n",
    "semaphore tires = 0; // Initially, there are no tires\n",
    "\n",
    "void MakeChassis() {\n",
    "    down(chassis); // Wait for the previous chassis to be used\n",
    "    Produce_chassis();\n",
    "    up(tires); // Signal that a chassis is ready for tires\n",
    "}\n",
    "\n",
    "void MakeTire() {\n",
    "    Produce_tire();\n",
    "    up(tires); // Signal that a tire has been produced\n",
    "}\n",
    "\n",
    "void Assemble() {\n",
    "    for (int i = 0; i < 4; i++) {\n",
    "        down(tires); // Wait for 4 tires to be produced\n",
    "    }\n",
    "    Put_4_tires_to_chassis();\n",
    "    up(chassis); // Signal that the chassis is ready for a new production\n",
    "}"
   ]
  },
  {
   "cell_type": "markdown",
   "metadata": {},
   "source": [
    "# Quiz 03\n",
    "![Diagram](./Images/Q3.png)"
   ]
  },
  {
   "cell_type": "markdown",
   "metadata": {},
   "source": [
    "``` cpp\n",
    "semaphore semA = 0, semB = 0;\n",
    "\n",
    "process P1 {\n",
    "    A1;\n",
    "    up(semA); // Signal that A1 is done\n",
    "    down(semB); // Wait for B1 to finish\n",
    "    A2;\n",
    "}\n",
    "\n",
    "process P2 {\n",
    "    B1;\n",
    "    up(semB); // Signal that B1 is done\n",
    "    down(semA); // Wait for A1 to finish\n",
    "    B2;\n",
    "}"
   ]
  },
  {
   "cell_type": "markdown",
   "metadata": {},
   "source": [
    "# Quiz 04\n",
    "![Diagram](./Images/Q4.png)"
   ]
  },
  {
   "cell_type": "markdown",
   "metadata": {},
   "source": [
    "``` cpp\n",
    "semaphore semA[100] = {0}, semB[100] = {1};\n",
    "\n",
    "process P1 {\n",
    "    for (i = 1; i <= 100; i++) {\n",
    "        down(semB[i-1]); // Wait for B(i-1) to finish\n",
    "        Ai;\n",
    "        up(semA[i]); // Signal that Ai is done\n",
    "    }\n",
    "}\n",
    "\n",
    "process P2 {\n",
    "    for (j = 1; j <= 100; j++) {\n",
    "        down(semA[j-1]); // Wait for A(j-1) to finish\n",
    "        Bj;\n",
    "        up(semB[j]); // Signal that Bj is done\n",
    "    }\n",
    "}"
   ]
  },
  {
   "cell_type": "markdown",
   "metadata": {},
   "source": [
    "# Quiz 05\n",
    "![Diagram](./Images/Q5.png)"
   ]
  },
  {
   "cell_type": "markdown",
   "metadata": {},
   "source": [
    "\n",
    "\n",
    "1. Tiến trình 1 đọc giá trị của `X` (ví dụ: 19), tăng nó lên 1 (để thành 20), nhưng trước khi nó có thể kiểm tra `if (X == 20) X = 0;`, tiến trình 2 được lên lịch để chạy.\n",
    "2. Tiến trình 2 đọc giá trị hiện tại của `X` (đã được tăng lên 20 bởi tiến trình 1), tăng nó lên 1 (để thành 21), và sau đó kiểm tra `if (X == 20) X = 0;`. Vì `X` không bằng 20, nên `X` vẫn giữ nguyên là 21.\n",
    "3. Khi tiến trình 1 tiếp tục chạy, nó sẽ kiểm tra `if (X == 20) X = 0;` nhưng `X` không còn bằng 20 nữa (do đã được tiến trình 2 tăng lên 21), nên `X` vẫn giữ nguyên là 21.\n",
    "\n",
    "Để khắc phục vấn đề này, chúng ta cần đồng bộ hóa việc truy cập vào biến `X` bằng cách sử dụng một semaphore hoặc mutex:\n",
    "\n",
    "```c\n",
    "semaphore mutex = 1; // Khởi tạo semaphore với giá trị 1\n",
    "\n",
    "do {\n",
    "    down(mutex); // Yêu cầu quyền truy cập vào biến X\n",
    "    X = X + 1;\n",
    "    if (X == 20) X = 0;\n",
    "    up(mutex); // Thả quyền truy cập vào biến X\n",
    "} while (TRUE);\n",
    "```\n",
    "\n",
    "- `semaphore mutex = 1;`: Khởi tạo một semaphore tên là `mutex` với giá trị ban đầu là 1. Giá trị này đại diện cho số lượng tiến trình tối đa có thể truy cập vào biến `X` tại một thời điểm.\n",
    "\n",
    "\n"
   ]
  },
  {
   "cell_type": "markdown",
   "metadata": {},
   "source": [
    "# Quiz 06\n",
    "![Diagram](./images/Q6.png)"
   ]
  },
  {
   "cell_type": "markdown",
   "metadata": {},
   "source": [
    "```c\n",
    "semaphore semW = 0; // Semaphore for w\n",
    "semaphore semV = 0; // Semaphore for v\n",
    "int w, v, y, z, ans;\n",
    "\n",
    "void calculateW() {\n",
    "    w = x1 * x2;\n",
    "    up(semW); // Signal that w has been calculated\n",
    "}\n",
    "\n",
    "void calculateV() {\n",
    "    v = x3 * x4;\n",
    "    up(semV); // Signal that v has been calculated\n",
    "}\n",
    "\n",
    "void calculateY() {\n",
    "    down(semV); // Wait for v to be calculated\n",
    "    y = v * x5;\n",
    "    down(semW); // Wait for w to be calculated\n",
    "    y = w * y;\n",
    "}\n",
    "\n",
    "void calculateZ() {\n",
    "    down(semV); // Wait for v to be calculated\n",
    "    z = v * x6;\n",
    "    down(semW); // Wait for w to be calculated\n",
    "    z = w * z;\n",
    "}\n",
    "\n",
    "void calculateAns() {\n",
    "    ans = y + z;\n",
    "}"
   ]
  },
  {
   "cell_type": "markdown",
   "metadata": {},
   "source": [
    "# Quiz 07\n",
    "![Diagram](./images/Q7.png)"
   ]
  },
  {
   "cell_type": "markdown",
   "metadata": {},
   "source": [
    "```c\n",
    "semaphore semB = 0; // Semaphore for thread B\n",
    "semaphore semC = 0; // Semaphore for thread C\n",
    "int sumEven = 0; // Sum of elements at even indices\n",
    "int sumOdd = 0; // Sum of elements at odd indices\n",
    "int totalSum = 0; // Total sum of all elements\n",
    "\n",
    "void B() {\n",
    "    for (int i = 0; i < 20; i += 2) {\n",
    "        sumEven += x[i];\n",
    "    }\n",
    "    up(semB); // Signal that B has finished calculating\n",
    "}\n",
    "\n",
    "void C() {\n",
    "    for (int i = 1; i < 20; i += 2) {\n",
    "        sumOdd += x[i];\n",
    "    }\n",
    "    up(semC); // Signal that C has finished calculating\n",
    "}\n",
    "\n",
    "void D() {\n",
    "    down(semB); // Wait for B to finish calculating\n",
    "    down(semC); // Wait for C to finish calculating\n",
    "    totalSum = sumEven + sumOdd;\n",
    "}"
   ]
  },
  {
   "cell_type": "markdown",
   "metadata": {},
   "source": [
    "# Quiz 08\n",
    "![Diagram](./images/Q8.png)"
   ]
  },
  {
   "cell_type": "markdown",
   "metadata": {},
   "source": [
    "```c\n",
    "while (TRUE)\n",
    "{\n",
    "    key = TRUE;\n",
    "    while (key == TRUE) \n",
    "    {\n",
    "        Swap(lock, key);\n",
    "    }\n",
    "    critical-section();\n",
    "    lock = FALSE;\n",
    "    Noncritical-section();\n",
    "}"
   ]
  },
  {
   "cell_type": "markdown",
   "metadata": {},
   "source": [
    "# Quiz 9\n",
    "![Diagram](./Images/Q9.png)"
   ]
  },
  {
   "cell_type": "markdown",
   "metadata": {},
   "source": [
    "\n",
    "\n",
    "\n",
    "\n",
    "```c\n",
    "semaphore a = 0, b = 10;\n",
    "\n",
    "process A() {\n",
    "    while (TRUE) {\n",
    "        down(b);\n",
    "        na = na + 1;\n",
    "        up(a);\n",
    "    }\n",
    "}\n",
    "\n",
    "process B() {\n",
    "    while (TRUE) {\n",
    "        down(a);\n",
    "        nb = nb + 1;\n",
    "        up(b);\n",
    "    }\n",
    "}\n",
    "\n",
    "```\n",
    "Trong đoạn mã tren, semaphore `b` được khởi tạo với giá trị 10. Điều này có nghĩa là tiến trình `A` có thể thực hiện `down(b)` thành công tối đa 10 lần trước khi bị chặn (block) chờ cho đến khi tiến trình `B` thực hiện `up(b)`.\n",
    "\n",
    "Do đó, khi nói \"A không thể đi trước B quá 10 bước\", điều đó có nghĩa là tiến trình `A` không thể tăng `na` quá 10 lần so với `nb` mà không cần chờ `B` hoàn thành một lần lặp.\n",
    "\n",
    "Điều này đảm bảo rằng cả hai tiến trình `A` và `B` đều tiến triển một cách hợp lý, không có tiến trình nào có thể đi quá xa so với tiến trình kia mà không cần chờ đợi.\n"
   ]
  }
 ],
 "metadata": {
  "language_info": {
   "name": "python"
  }
 },
 "nbformat": 4,
 "nbformat_minor": 2
}
